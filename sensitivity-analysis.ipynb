{
 "cells": [
  {
   "cell_type": "code",
   "execution_count": 130,
   "metadata": {},
   "outputs": [],
   "source": [
    "import pandas as pd\n",
    "from sklearn.model_selection import train_test_split\n",
    "from sklearn.preprocessing import OrdinalEncoder, StandardScaler\n",
    "from matplotlib import pyplot as plt\n",
    "import seaborn as sns\n",
    "import numpy as np\n",
    "from sklearn.svm import SVC\n",
    "from sklearn.linear_model import LogisticRegression\n",
    "from sklearn.metrics import accuracy_score, recall_score, precision_score, roc_curve, auc, confusion_matrix\n",
    "from imblearn.over_sampling import SMOTE\n",
    "from SALib.sample import saltelli\n",
    "from SALib.analyze import sobol\n",
    "from lime import lime_tabular"
   ]
  },
  {
   "cell_type": "markdown",
   "metadata": {},
   "source": [
    "### Read the dataset"
   ]
  },
  {
   "cell_type": "code",
   "execution_count": 131,
   "metadata": {},
   "outputs": [],
   "source": [
    "df_path = '~/code/loyalist-college/sem-1/ml-1/assignment-5/Telecom.xlsx'\n",
    "df = pd.read_excel(df_path, sheet_name=\"Telecom\")"
   ]
  },
  {
   "cell_type": "markdown",
   "metadata": {},
   "source": [
    "# Feature Engineering"
   ]
  },
  {
   "cell_type": "markdown",
   "metadata": {},
   "source": [
    "## Remove duplicates"
   ]
  },
  {
   "cell_type": "code",
   "execution_count": 132,
   "metadata": {},
   "outputs": [
    {
     "data": {
      "text/html": [
       "<div>\n",
       "<style scoped>\n",
       "    .dataframe tbody tr th:only-of-type {\n",
       "        vertical-align: middle;\n",
       "    }\n",
       "\n",
       "    .dataframe tbody tr th {\n",
       "        vertical-align: top;\n",
       "    }\n",
       "\n",
       "    .dataframe thead th {\n",
       "        text-align: right;\n",
       "    }\n",
       "</style>\n",
       "<table border=\"1\" class=\"dataframe\">\n",
       "  <thead>\n",
       "    <tr style=\"text-align: right;\">\n",
       "      <th></th>\n",
       "      <th>CustomerID</th>\n",
       "      <th>PlanTaken</th>\n",
       "      <th>Age</th>\n",
       "      <th>TypeofContact</th>\n",
       "      <th>CityTier</th>\n",
       "      <th>DurationOfPitch</th>\n",
       "      <th>Occupation</th>\n",
       "      <th>Gender</th>\n",
       "      <th>NumberOfPersons</th>\n",
       "      <th>NumberOfFollowups</th>\n",
       "      <th>PlanPitched</th>\n",
       "      <th>PreferredServiceStar</th>\n",
       "      <th>MaritalStatus</th>\n",
       "      <th>NumberOfUpgrades</th>\n",
       "      <th>iPhone</th>\n",
       "      <th>PitchSatisfactionScore</th>\n",
       "      <th>PhoneContract</th>\n",
       "      <th>NumberOfChildren</th>\n",
       "      <th>Designation</th>\n",
       "      <th>MonthlyIncome</th>\n",
       "    </tr>\n",
       "  </thead>\n",
       "  <tbody>\n",
       "    <tr>\n",
       "      <th>0</th>\n",
       "      <td>200000</td>\n",
       "      <td>1</td>\n",
       "      <td>41.0</td>\n",
       "      <td>Self Enquiry</td>\n",
       "      <td>3</td>\n",
       "      <td>6.0</td>\n",
       "      <td>Salaried</td>\n",
       "      <td>Female</td>\n",
       "      <td>3</td>\n",
       "      <td>3.0</td>\n",
       "      <td>Deluxe</td>\n",
       "      <td>3.0</td>\n",
       "      <td>Single</td>\n",
       "      <td>1.0</td>\n",
       "      <td>1</td>\n",
       "      <td>2</td>\n",
       "      <td>1</td>\n",
       "      <td>0.0</td>\n",
       "      <td>Manager</td>\n",
       "      <td>20993.0</td>\n",
       "    </tr>\n",
       "    <tr>\n",
       "      <th>1</th>\n",
       "      <td>200001</td>\n",
       "      <td>0</td>\n",
       "      <td>49.0</td>\n",
       "      <td>Company Invited</td>\n",
       "      <td>1</td>\n",
       "      <td>14.0</td>\n",
       "      <td>Salaried</td>\n",
       "      <td>Male</td>\n",
       "      <td>3</td>\n",
       "      <td>4.0</td>\n",
       "      <td>Deluxe</td>\n",
       "      <td>4.0</td>\n",
       "      <td>Divorced</td>\n",
       "      <td>2.0</td>\n",
       "      <td>0</td>\n",
       "      <td>3</td>\n",
       "      <td>1</td>\n",
       "      <td>2.0</td>\n",
       "      <td>Manager</td>\n",
       "      <td>20130.0</td>\n",
       "    </tr>\n",
       "    <tr>\n",
       "      <th>2</th>\n",
       "      <td>200002</td>\n",
       "      <td>1</td>\n",
       "      <td>37.0</td>\n",
       "      <td>Self Enquiry</td>\n",
       "      <td>1</td>\n",
       "      <td>8.0</td>\n",
       "      <td>Free Lancer</td>\n",
       "      <td>Male</td>\n",
       "      <td>3</td>\n",
       "      <td>4.0</td>\n",
       "      <td>Basic</td>\n",
       "      <td>3.0</td>\n",
       "      <td>Single</td>\n",
       "      <td>7.0</td>\n",
       "      <td>1</td>\n",
       "      <td>3</td>\n",
       "      <td>0</td>\n",
       "      <td>0.0</td>\n",
       "      <td>Executive</td>\n",
       "      <td>17090.0</td>\n",
       "    </tr>\n",
       "    <tr>\n",
       "      <th>3</th>\n",
       "      <td>200003</td>\n",
       "      <td>0</td>\n",
       "      <td>33.0</td>\n",
       "      <td>Company Invited</td>\n",
       "      <td>1</td>\n",
       "      <td>9.0</td>\n",
       "      <td>Salaried</td>\n",
       "      <td>Female</td>\n",
       "      <td>2</td>\n",
       "      <td>3.0</td>\n",
       "      <td>Basic</td>\n",
       "      <td>3.0</td>\n",
       "      <td>Divorced</td>\n",
       "      <td>2.0</td>\n",
       "      <td>1</td>\n",
       "      <td>5</td>\n",
       "      <td>1</td>\n",
       "      <td>1.0</td>\n",
       "      <td>Executive</td>\n",
       "      <td>17909.0</td>\n",
       "    </tr>\n",
       "    <tr>\n",
       "      <th>4</th>\n",
       "      <td>200004</td>\n",
       "      <td>0</td>\n",
       "      <td>NaN</td>\n",
       "      <td>Self Enquiry</td>\n",
       "      <td>1</td>\n",
       "      <td>8.0</td>\n",
       "      <td>Small Business</td>\n",
       "      <td>Male</td>\n",
       "      <td>2</td>\n",
       "      <td>3.0</td>\n",
       "      <td>Basic</td>\n",
       "      <td>4.0</td>\n",
       "      <td>Divorced</td>\n",
       "      <td>1.0</td>\n",
       "      <td>0</td>\n",
       "      <td>5</td>\n",
       "      <td>1</td>\n",
       "      <td>0.0</td>\n",
       "      <td>Executive</td>\n",
       "      <td>18468.0</td>\n",
       "    </tr>\n",
       "    <tr>\n",
       "      <th>...</th>\n",
       "      <td>...</td>\n",
       "      <td>...</td>\n",
       "      <td>...</td>\n",
       "      <td>...</td>\n",
       "      <td>...</td>\n",
       "      <td>...</td>\n",
       "      <td>...</td>\n",
       "      <td>...</td>\n",
       "      <td>...</td>\n",
       "      <td>...</td>\n",
       "      <td>...</td>\n",
       "      <td>...</td>\n",
       "      <td>...</td>\n",
       "      <td>...</td>\n",
       "      <td>...</td>\n",
       "      <td>...</td>\n",
       "      <td>...</td>\n",
       "      <td>...</td>\n",
       "      <td>...</td>\n",
       "      <td>...</td>\n",
       "    </tr>\n",
       "    <tr>\n",
       "      <th>4883</th>\n",
       "      <td>204883</td>\n",
       "      <td>1</td>\n",
       "      <td>49.0</td>\n",
       "      <td>Self Enquiry</td>\n",
       "      <td>3</td>\n",
       "      <td>9.0</td>\n",
       "      <td>Small Business</td>\n",
       "      <td>Male</td>\n",
       "      <td>3</td>\n",
       "      <td>5.0</td>\n",
       "      <td>Deluxe</td>\n",
       "      <td>4.0</td>\n",
       "      <td>Unmarried</td>\n",
       "      <td>2.0</td>\n",
       "      <td>1</td>\n",
       "      <td>1</td>\n",
       "      <td>1</td>\n",
       "      <td>1.0</td>\n",
       "      <td>Manager</td>\n",
       "      <td>26576.0</td>\n",
       "    </tr>\n",
       "    <tr>\n",
       "      <th>4884</th>\n",
       "      <td>204884</td>\n",
       "      <td>1</td>\n",
       "      <td>28.0</td>\n",
       "      <td>Company Invited</td>\n",
       "      <td>1</td>\n",
       "      <td>31.0</td>\n",
       "      <td>Salaried</td>\n",
       "      <td>Male</td>\n",
       "      <td>4</td>\n",
       "      <td>5.0</td>\n",
       "      <td>Basic</td>\n",
       "      <td>3.0</td>\n",
       "      <td>Single</td>\n",
       "      <td>3.0</td>\n",
       "      <td>1</td>\n",
       "      <td>3</td>\n",
       "      <td>1</td>\n",
       "      <td>2.0</td>\n",
       "      <td>Executive</td>\n",
       "      <td>21212.0</td>\n",
       "    </tr>\n",
       "    <tr>\n",
       "      <th>4885</th>\n",
       "      <td>204885</td>\n",
       "      <td>1</td>\n",
       "      <td>52.0</td>\n",
       "      <td>Self Enquiry</td>\n",
       "      <td>3</td>\n",
       "      <td>17.0</td>\n",
       "      <td>Salaried</td>\n",
       "      <td>Female</td>\n",
       "      <td>4</td>\n",
       "      <td>4.0</td>\n",
       "      <td>Standard</td>\n",
       "      <td>4.0</td>\n",
       "      <td>Married</td>\n",
       "      <td>7.0</td>\n",
       "      <td>0</td>\n",
       "      <td>1</td>\n",
       "      <td>1</td>\n",
       "      <td>3.0</td>\n",
       "      <td>Senior Manager</td>\n",
       "      <td>31820.0</td>\n",
       "    </tr>\n",
       "    <tr>\n",
       "      <th>4886</th>\n",
       "      <td>204886</td>\n",
       "      <td>1</td>\n",
       "      <td>19.0</td>\n",
       "      <td>Self Enquiry</td>\n",
       "      <td>3</td>\n",
       "      <td>16.0</td>\n",
       "      <td>Small Business</td>\n",
       "      <td>Male</td>\n",
       "      <td>3</td>\n",
       "      <td>4.0</td>\n",
       "      <td>Basic</td>\n",
       "      <td>3.0</td>\n",
       "      <td>Single</td>\n",
       "      <td>3.0</td>\n",
       "      <td>0</td>\n",
       "      <td>5</td>\n",
       "      <td>0</td>\n",
       "      <td>2.0</td>\n",
       "      <td>Executive</td>\n",
       "      <td>20289.0</td>\n",
       "    </tr>\n",
       "    <tr>\n",
       "      <th>4887</th>\n",
       "      <td>204887</td>\n",
       "      <td>1</td>\n",
       "      <td>36.0</td>\n",
       "      <td>Self Enquiry</td>\n",
       "      <td>1</td>\n",
       "      <td>14.0</td>\n",
       "      <td>Salaried</td>\n",
       "      <td>Male</td>\n",
       "      <td>4</td>\n",
       "      <td>4.0</td>\n",
       "      <td>Basic</td>\n",
       "      <td>4.0</td>\n",
       "      <td>Unmarried</td>\n",
       "      <td>3.0</td>\n",
       "      <td>1</td>\n",
       "      <td>3</td>\n",
       "      <td>1</td>\n",
       "      <td>2.0</td>\n",
       "      <td>Executive</td>\n",
       "      <td>24041.0</td>\n",
       "    </tr>\n",
       "  </tbody>\n",
       "</table>\n",
       "<p>4888 rows × 20 columns</p>\n",
       "</div>"
      ],
      "text/plain": [
       "      CustomerID  PlanTaken   Age    TypeofContact  CityTier  DurationOfPitch  \\\n",
       "0         200000          1  41.0     Self Enquiry         3              6.0   \n",
       "1         200001          0  49.0  Company Invited         1             14.0   \n",
       "2         200002          1  37.0     Self Enquiry         1              8.0   \n",
       "3         200003          0  33.0  Company Invited         1              9.0   \n",
       "4         200004          0   NaN     Self Enquiry         1              8.0   \n",
       "...          ...        ...   ...              ...       ...              ...   \n",
       "4883      204883          1  49.0     Self Enquiry         3              9.0   \n",
       "4884      204884          1  28.0  Company Invited         1             31.0   \n",
       "4885      204885          1  52.0     Self Enquiry         3             17.0   \n",
       "4886      204886          1  19.0     Self Enquiry         3             16.0   \n",
       "4887      204887          1  36.0     Self Enquiry         1             14.0   \n",
       "\n",
       "          Occupation  Gender  NumberOfPersons  NumberOfFollowups PlanPitched  \\\n",
       "0           Salaried  Female                3                3.0      Deluxe   \n",
       "1           Salaried    Male                3                4.0      Deluxe   \n",
       "2        Free Lancer    Male                3                4.0       Basic   \n",
       "3           Salaried  Female                2                3.0       Basic   \n",
       "4     Small Business    Male                2                3.0       Basic   \n",
       "...              ...     ...              ...                ...         ...   \n",
       "4883  Small Business    Male                3                5.0      Deluxe   \n",
       "4884        Salaried    Male                4                5.0       Basic   \n",
       "4885        Salaried  Female                4                4.0    Standard   \n",
       "4886  Small Business    Male                3                4.0       Basic   \n",
       "4887        Salaried    Male                4                4.0       Basic   \n",
       "\n",
       "      PreferredServiceStar MaritalStatus  NumberOfUpgrades  iPhone  \\\n",
       "0                      3.0        Single               1.0       1   \n",
       "1                      4.0      Divorced               2.0       0   \n",
       "2                      3.0        Single               7.0       1   \n",
       "3                      3.0      Divorced               2.0       1   \n",
       "4                      4.0      Divorced               1.0       0   \n",
       "...                    ...           ...               ...     ...   \n",
       "4883                   4.0     Unmarried               2.0       1   \n",
       "4884                   3.0        Single               3.0       1   \n",
       "4885                   4.0       Married               7.0       0   \n",
       "4886                   3.0        Single               3.0       0   \n",
       "4887                   4.0     Unmarried               3.0       1   \n",
       "\n",
       "      PitchSatisfactionScore  PhoneContract  NumberOfChildren     Designation  \\\n",
       "0                          2              1               0.0         Manager   \n",
       "1                          3              1               2.0         Manager   \n",
       "2                          3              0               0.0       Executive   \n",
       "3                          5              1               1.0       Executive   \n",
       "4                          5              1               0.0       Executive   \n",
       "...                      ...            ...               ...             ...   \n",
       "4883                       1              1               1.0         Manager   \n",
       "4884                       3              1               2.0       Executive   \n",
       "4885                       1              1               3.0  Senior Manager   \n",
       "4886                       5              0               2.0       Executive   \n",
       "4887                       3              1               2.0       Executive   \n",
       "\n",
       "      MonthlyIncome  \n",
       "0           20993.0  \n",
       "1           20130.0  \n",
       "2           17090.0  \n",
       "3           17909.0  \n",
       "4           18468.0  \n",
       "...             ...  \n",
       "4883        26576.0  \n",
       "4884        21212.0  \n",
       "4885        31820.0  \n",
       "4886        20289.0  \n",
       "4887        24041.0  \n",
       "\n",
       "[4888 rows x 20 columns]"
      ]
     },
     "execution_count": 132,
     "metadata": {},
     "output_type": "execute_result"
    }
   ],
   "source": [
    "df\n",
    "df.drop_duplicates()"
   ]
  },
  {
   "cell_type": "markdown",
   "metadata": {},
   "source": [
    "### Drop Occupation - Free Lancer"
   ]
  },
  {
   "cell_type": "code",
   "execution_count": 133,
   "metadata": {},
   "outputs": [],
   "source": [
    "df = df.drop(df[df[\"Occupation\"] == 'Free Lancer'].index)"
   ]
  },
  {
   "cell_type": "markdown",
   "metadata": {},
   "source": [
    "## Select features\n",
    "- Select independent features as X \n",
    "- Select dependent feature for y"
   ]
  },
  {
   "cell_type": "code",
   "execution_count": 134,
   "metadata": {},
   "outputs": [
    {
     "name": "stdout",
     "output_type": "stream",
     "text": [
      "<class 'pandas.core.frame.DataFrame'>\n",
      "Index: 4886 entries, 0 to 4887\n",
      "Data columns (total 18 columns):\n",
      " #   Column                  Non-Null Count  Dtype  \n",
      "---  ------                  --------------  -----  \n",
      " 0   Age                     4660 non-null   float64\n",
      " 1   TypeofContact           4861 non-null   object \n",
      " 2   CityTier                4886 non-null   int64  \n",
      " 3   DurationOfPitch         4635 non-null   float64\n",
      " 4   Occupation              4886 non-null   object \n",
      " 5   Gender                  4886 non-null   object \n",
      " 6   NumberOfPersons         4886 non-null   int64  \n",
      " 7   NumberOfFollowups       4841 non-null   float64\n",
      " 8   PlanPitched             4886 non-null   object \n",
      " 9   PreferredServiceStar    4860 non-null   float64\n",
      " 10  MaritalStatus           4886 non-null   object \n",
      " 11  NumberOfUpgrades        4746 non-null   float64\n",
      " 12  iPhone                  4886 non-null   int64  \n",
      " 13  PitchSatisfactionScore  4886 non-null   int64  \n",
      " 14  PhoneContract           4886 non-null   int64  \n",
      " 15  NumberOfChildren        4820 non-null   float64\n",
      " 16  Designation             4886 non-null   object \n",
      " 17  MonthlyIncome           4653 non-null   float64\n",
      "dtypes: float64(7), int64(5), object(6)\n",
      "memory usage: 725.3+ KB\n"
     ]
    }
   ],
   "source": [
    "def select_features_for_model(df):\n",
    "    df = df.drop(\"CustomerID\", axis=1)\n",
    "    X = df.drop(\"PlanTaken\", axis=1)\n",
    "    y = df[\"PlanTaken\"]\n",
    "    X.info()\n",
    "    return X, y\n",
    "\n",
    "X, y = select_features_for_model(df)"
   ]
  },
  {
   "cell_type": "markdown",
   "metadata": {},
   "source": [
    "## Split Train & Test"
   ]
  },
  {
   "cell_type": "code",
   "execution_count": 135,
   "metadata": {},
   "outputs": [],
   "source": [
    "def split_train_test(X, y):\n",
    "    X_train, X_test, y_train, y_test = train_test_split(X, y, test_size=0.2, random_state=42)\n",
    "    return X_train, X_test, y_train, y_test\n",
    "\n",
    "X_train, X_test, y_train, y_test = split_train_test(X, y)"
   ]
  },
  {
   "cell_type": "markdown",
   "metadata": {},
   "source": [
    "## Data Cleaning"
   ]
  },
  {
   "cell_type": "markdown",
   "metadata": {},
   "source": [
    "### Gender"
   ]
  },
  {
   "cell_type": "code",
   "execution_count": 136,
   "metadata": {},
   "outputs": [],
   "source": [
    "# Correcting the Fe Male gender as Female\n",
    "def clean_Gender(df):\n",
    "    df['Gender'] = df['Gender'].map({'Male': 'Male', 'Female':'Female', 'Fe Male': 'Female'})\n",
    "    return df\n",
    "\n",
    "# Clean Train \n",
    "X_train = clean_Gender(X_train)\n",
    "\n",
    "# Clean Test\n",
    "X_test = clean_Gender(X_test)"
   ]
  },
  {
   "cell_type": "code",
   "execution_count": 137,
   "metadata": {},
   "outputs": [],
   "source": [
    "# Merging Unmarried to Single\n",
    "def clean_MaritalStatus(df):\n",
    "    df['MaritalStatus'] = df['MaritalStatus'].map({'Married': 'Married', \n",
    "                                                  'Divorced':'Divorced', \n",
    "                                                  'Single': 'Single', \n",
    "                                                  'Unmarried': 'Single'})\n",
    "    return df\n",
    "\n",
    "# Clean Train \n",
    "X_train = clean_MaritalStatus(X_train)\n",
    "\n",
    "# Clean Test\n",
    "X_test = clean_MaritalStatus(X_test)"
   ]
  },
  {
   "cell_type": "markdown",
   "metadata": {},
   "source": [
    "## Impute missing values"
   ]
  },
  {
   "cell_type": "code",
   "execution_count": 138,
   "metadata": {},
   "outputs": [],
   "source": [
    "def impute_features(df):\n",
    "    numeric_cols = ['DurationOfPitch', 'MonthlyIncome', 'Age', 'NumberOfUpgrades', 'NumberOfChildren', 'NumberOfFollowups', 'PreferredServiceStar']\n",
    "    mean_values = df[numeric_cols].mean()\n",
    "    \n",
    "    df[numeric_cols] = df[numeric_cols].fillna(mean_values)\n",
    "    \n",
    "    categorical_cols = ['TypeofContact']\n",
    "    df[categorical_cols] = df[categorical_cols].fillna(df[categorical_cols].mode().iloc[0])\n",
    "\n",
    "    \n",
    "    return df\n",
    "\n",
    "\n",
    "X_train = impute_features(X_train)\n",
    "\n",
    "X_train.isnull().sum()\n",
    "\n",
    "X_test = impute_features(X_test)"
   ]
  },
  {
   "cell_type": "markdown",
   "metadata": {},
   "source": [
    "## Handling Outliers\n",
    "* Income can be dependent on Occupation and Designation, therefore removing the outliers based on them"
   ]
  },
  {
   "cell_type": "code",
   "execution_count": 139,
   "metadata": {},
   "outputs": [],
   "source": [
    "def handle_outliers(df):\n",
    "    \n",
    "    numeric_columns = df.select_dtypes(include=['float64', 'int64']).columns\n",
    "\n",
    "    # Calculateing IQR\n",
    "    Q1 = df[numeric_columns].quantile(0.25)\n",
    "    Q3 = df[numeric_columns].quantile(0.75)\n",
    "    IQR = Q3 - Q1\n",
    "\n",
    "    # Outlier threshold - 1.5 times IQR\n",
    "    threshold = 1.5\n",
    "\n",
    "    # Finding the outliers using the threshold value\n",
    "    outliers = np.logical_or(df[numeric_columns] < (Q1 - threshold * IQR), df[numeric_columns] > (Q3 + threshold * IQR))\n",
    "\n",
    "    # Total outliers in each numerical columns\n",
    "    outliers_count = outliers.sum(axis=0)\n",
    "    \n",
    "    columns_to_replace_with_median = ['DurationOfPitch', 'NumberOfUpgrades']\n",
    "    df[columns_to_replace_with_median] = np.where(outliers[columns_to_replace_with_median], df[columns_to_replace_with_median].median(), df[columns_to_replace_with_median])\n",
    "    \n",
    "    # Set income thresholds based on the 95th percentile of MonthlyIncome for each designation\n",
    "    thresholds_by_designation = df.groupby('Designation')['MonthlyIncome'].quantile(0.95)\n",
    "\n",
    "    # Replace outliers based on IQR for each designation and occupation\n",
    "    for (designation, occupation), group in df.groupby(['Designation', 'Occupation']):\n",
    "        # Use the threshold corresponding to the designation\n",
    "        income_threshold = thresholds_by_designation.get(designation, 0)\n",
    "\n",
    "        Q1 = group['MonthlyIncome'].quantile(0.25)\n",
    "        Q3 = group['MonthlyIncome'].quantile(0.75)\n",
    "        IQR = Q3 - Q1\n",
    "\n",
    "        lower_bound = Q1 - 1.5 * IQR\n",
    "        upper_bound = Q3 + 1.5 * IQR\n",
    "\n",
    "        # Replace outliers with the threshold value\n",
    "        df.loc[(df['Designation'] == designation) & (df['Occupation'] == occupation) &\n",
    "               ((df['MonthlyIncome'] < lower_bound) | (df['MonthlyIncome'] > upper_bound)),\n",
    "               'MonthlyIncome'] = income_threshold\n",
    "    return df\n",
    "\n",
    "X_train = handle_outliers(X_train)"
   ]
  },
  {
   "cell_type": "markdown",
   "metadata": {},
   "source": [
    "## Encoding"
   ]
  },
  {
   "cell_type": "markdown",
   "metadata": {},
   "source": [
    "### PlanPitched - Ordinal encoding"
   ]
  },
  {
   "cell_type": "code",
   "execution_count": 140,
   "metadata": {},
   "outputs": [],
   "source": [
    "def encode_PlanPitched(df):\n",
    "    # Define the custom order\n",
    "    custom_order_PlanPitched = ['Basic', 'Standard', 'Deluxe', 'Super Deluxe', 'King']\n",
    "\n",
    "    # Initialize the OrdinalEncoder with the custom order\n",
    "    encoder = OrdinalEncoder(categories=[custom_order_PlanPitched])\n",
    "\n",
    "    # Fit and transform the labels\n",
    "    df['PlanPitched'] = encoder.fit_transform(df['PlanPitched'].values.reshape(-1,1))\n",
    "\n",
    "    return df\n",
    "\n",
    "# Encoding on Train\n",
    "X_train = encode_PlanPitched(X_train)\n",
    "\n",
    "# Encoding on Test\n",
    "X_test = encode_PlanPitched(X_test)"
   ]
  },
  {
   "cell_type": "markdown",
   "metadata": {},
   "source": [
    "### Encode other categorical features"
   ]
  },
  {
   "cell_type": "code",
   "execution_count": 141,
   "metadata": {},
   "outputs": [],
   "source": [
    "def encode_features(df):\n",
    "    columns_to_encode = ['Gender', 'TypeofContact', 'Occupation', 'MaritalStatus', 'Designation']\n",
    "    df = pd.get_dummies(df, columns=columns_to_encode)\n",
    "    return df\n",
    "\n",
    "# Encoding on Train\n",
    "X_train = encode_features(X_train)\n",
    "\n",
    "# Encoding on Test\n",
    "X_test = encode_features(X_test)"
   ]
  },
  {
   "cell_type": "markdown",
   "metadata": {},
   "source": [
    "### Convert scaled array back to data frame"
   ]
  },
  {
   "cell_type": "code",
   "execution_count": 142,
   "metadata": {},
   "outputs": [],
   "source": [
    "def convert_ndarray_to_df(nd_array, columns):\n",
    "  return pd.DataFrame(data=nd_array, columns=columns)"
   ]
  },
  {
   "cell_type": "markdown",
   "metadata": {},
   "source": [
    "## Scale data"
   ]
  },
  {
   "cell_type": "code",
   "execution_count": 143,
   "metadata": {},
   "outputs": [],
   "source": [
    "def scale_data(df):\n",
    "    scaler = StandardScaler()\n",
    "    scaled_array = scaler.fit_transform(df)\n",
    "    return scaled_array\n",
    "\n",
    "\n",
    "X_train_columns = X_train.columns\n",
    "X_test_columns = X_train.columns\n",
    "\n",
    "X_train_scaled_array = scale_data(X_train)\n",
    "X_test_scaled_array = scale_data(X_test)\n",
    "\n",
    "X_train = convert_ndarray_to_df(X_train_scaled_array, X_train_columns)\n",
    "X_test = convert_ndarray_to_df(X_test_scaled_array, X_test_columns)"
   ]
  },
  {
   "cell_type": "markdown",
   "metadata": {},
   "source": [
    "# Helpers"
   ]
  },
  {
   "cell_type": "markdown",
   "metadata": {},
   "source": [
    "## Helper to display model metrics and AUC under ROC curve"
   ]
  },
  {
   "cell_type": "code",
   "execution_count": 144,
   "metadata": {},
   "outputs": [],
   "source": [
    "def show_auc_under_roc(y_test, y_pred, y_prob):\n",
    "    \n",
    "    # Compute the false positive rate, true positive rate, and thresholds\n",
    "    fpr, tpr, thresholds = roc_curve(y_test, y_prob)\n",
    "    \n",
    "    accuracy = accuracy_score(y_test, y_pred)\n",
    "    auc_score = auc(fpr, tpr)\n",
    "    \n",
    "    print(\"Accuracy: \", accuracy)\n",
    "    print(\"Precision:\", precision_score(y_test, y_pred, average=\"weighted\"))\n",
    "    print(\"Recall:\", recall_score(y_test, y_pred, average=\"weighted\"))\n",
    "    \n",
    "    plt.figure()\n",
    "    plt.plot(fpr, tpr, label='ROC curve (AUC = %0.2f)' % auc_score)\n",
    "    plt.plot([0, 1], [0, 1], 'k--')\n",
    "    plt.xlim([0.0, 1.0])\n",
    "    plt.ylim([0.0, 1.05])\n",
    "    plt.xlabel('False Positive Rate')\n",
    "    plt.ylabel('True Positive Rate')\n",
    "    plt.title('Receiver Operating Characteristic')\n",
    "    plt.legend(loc='lower right')\n",
    "    plt.show()"
   ]
  },
  {
   "cell_type": "markdown",
   "metadata": {},
   "source": [
    "## Helper to display confusion matrix"
   ]
  },
  {
   "cell_type": "code",
   "execution_count": 145,
   "metadata": {},
   "outputs": [],
   "source": [
    "def show_confusion_matrix(y_test, y_pred):\n",
    "    cm = confusion_matrix(y_test, y_pred)\n",
    "\n",
    "    # Create a heatmap of the confusion matrix\n",
    "    sns.heatmap(cm, annot=True, fmt=\"d\", cmap=\"Blues\")\n",
    "\n",
    "    # Add labels, title, and ticks to the plot\n",
    "    plt.xlabel(\"Predicted\")\n",
    "    plt.ylabel(\"True\")\n",
    "    plt.title(\"Confusion Matrix for PlanTaken\")\n",
    "    plt.xticks(ticks=[0, 1])  \n",
    "    plt.yticks(ticks=[0, 1])\n",
    "\n",
    "    # Show the plot\n",
    "    plt.show()"
   ]
  },
  {
   "cell_type": "markdown",
   "metadata": {},
   "source": [
    "### Build Logistic Regression"
   ]
  },
  {
   "cell_type": "code",
   "execution_count": 146,
   "metadata": {},
   "outputs": [
    {
     "name": "stdout",
     "output_type": "stream",
     "text": [
      "Accuracy: "
     ]
    },
    {
     "name": "stdout",
     "output_type": "stream",
     "text": [
      " 0.7464212678936605\n",
      "Precision: 0.8104417529594131\n",
      "Recall: 0.7464212678936605\n"
     ]
    },
    {
     "data": {
      "image/png": "[encoded data removed]",
      "text/plain": [
       "<Figure size 640x480 with 1 Axes>"
      ]
     },
     "metadata": {},
     "output_type": "display_data"
    },
    {
     "data": {
      "image/png": "[encoded data removed]",
      "text/plain": [
       "<Figure size 640x480 with 2 Axes>"
      ]
     },
     "metadata": {},
     "output_type": "display_data"
    }
   ],
   "source": [
    "def build_logistic_regression_model(X_train, X_test, y_train, y_test):\n",
    "    smote = SMOTE(random_state=42)\n",
    "    X_train_resampled, y_train_resampled = smote.fit_resample(X_train, y_train)\n",
    "    \n",
    "    lr_model = LogisticRegression(penalty=\"l2\", C=13, solver=\"lbfgs\")\n",
    "    lr_model.fit(X_train_resampled, y_train_resampled)\n",
    "    \n",
    "    y_pred = lr_model.predict(X_test)\n",
    "    y_prob = lr_model.predict_proba(X_test)[:, 1]\n",
    "    \n",
    "    show_auc_under_roc(y_test, y_pred, y_prob)\n",
    "    show_confusion_matrix(y_test, y_pred)\n",
    "\n",
    "    return lr_model, y_pred, y_prob\n",
    "    \n",
    "lr_model, y_pred_lr, y_prob_lr = build_logistic_regression_model(X_train, X_test, y_train, y_test)"
   ]
  },
  {
   "cell_type": "markdown",
   "metadata": {},
   "source": [
    "### Sensitivity Analysis for Logistic Regression"
   ]
  },
  {
   "cell_type": "code",
   "execution_count": 147,
   "metadata": {},
   "outputs": [
    {
     "ename": "RuntimeError",
     "evalue": "\n        Incorrect number of samples in model output file.\n        Confirm that calc_second_order matches option used during sampling.",
     "output_type": "error",
     "traceback": [
      "\u001b[0;31m---------------------------------------------------------------------------\u001b[0m",
      "\u001b[0;31mRuntimeError\u001b[0m                              Traceback (most recent call last)",
      "\u001b[1;32m/Users/joelraju/code/loyalist-college/sem-1/ml-1/assignment-6/sensitivity-analysis.ipynb Cell 38\u001b[0m line \u001b[0;36m1\n\u001b[1;32m     <a href='vscode-notebook-cell:/Users/joelraju/code/loyalist-college/sem-1/ml-1/assignment-6/sensitivity-analysis.ipynb#Y102sZmlsZQ%3D%3D?line=12'>13</a>\u001b[0m     \u001b[39mfor\u001b[39;00m i, feature \u001b[39min\u001b[39;00m \u001b[39menumerate\u001b[39m(problem[\u001b[39m'\u001b[39m\u001b[39mnames\u001b[39m\u001b[39m'\u001b[39m]):\n\u001b[1;32m     <a href='vscode-notebook-cell:/Users/joelraju/code/loyalist-college/sem-1/ml-1/assignment-6/sensitivity-analysis.ipynb#Y102sZmlsZQ%3D%3D?line=13'>14</a>\u001b[0m         \u001b[39mprint\u001b[39m(\u001b[39mf\u001b[39m\u001b[39m\"\u001b[39m\u001b[39m{\u001b[39;00mfeature\u001b[39m}\u001b[39;00m\u001b[39m: \u001b[39m\u001b[39m{\u001b[39;00msensitivity[\u001b[39m'\u001b[39m\u001b[39mS1\u001b[39m\u001b[39m'\u001b[39m][i]\u001b[39m}\u001b[39;00m\u001b[39m\"\u001b[39m)\n\u001b[0;32m---> <a href='vscode-notebook-cell:/Users/joelraju/code/loyalist-college/sem-1/ml-1/assignment-6/sensitivity-analysis.ipynb#Y102sZmlsZQ%3D%3D?line=15'>16</a>\u001b[0m perform_senitivity_analysis(X, y_pred_lr)\n",
      "\u001b[1;32m/Users/joelraju/code/loyalist-college/sem-1/ml-1/assignment-6/sensitivity-analysis.ipynb Cell 38\u001b[0m line \u001b[0;36m1\n\u001b[1;32m      <a href='vscode-notebook-cell:/Users/joelraju/code/loyalist-college/sem-1/ml-1/assignment-6/sensitivity-analysis.ipynb#Y102sZmlsZQ%3D%3D?line=1'>2</a>\u001b[0m N \u001b[39m=\u001b[39m \u001b[39m2\u001b[39m \u001b[39m*\u001b[39m\u001b[39m*\u001b[39m \u001b[39m10\u001b[39m\n\u001b[1;32m      <a href='vscode-notebook-cell:/Users/joelraju/code/loyalist-college/sem-1/ml-1/assignment-6/sensitivity-analysis.ipynb#Y102sZmlsZQ%3D%3D?line=3'>4</a>\u001b[0m problem \u001b[39m=\u001b[39m {\n\u001b[1;32m      <a href='vscode-notebook-cell:/Users/joelraju/code/loyalist-college/sem-1/ml-1/assignment-6/sensitivity-analysis.ipynb#Y102sZmlsZQ%3D%3D?line=4'>5</a>\u001b[0m     \u001b[39m'\u001b[39m\u001b[39mnum_vars\u001b[39m\u001b[39m'\u001b[39m: X\u001b[39m.\u001b[39mshape[\u001b[39m1\u001b[39m],\n\u001b[1;32m      <a href='vscode-notebook-cell:/Users/joelraju/code/loyalist-college/sem-1/ml-1/assignment-6/sensitivity-analysis.ipynb#Y102sZmlsZQ%3D%3D?line=5'>6</a>\u001b[0m     \u001b[39m'\u001b[39m\u001b[39mnames\u001b[39m\u001b[39m'\u001b[39m: [\u001b[39mf\u001b[39m\u001b[39m'\u001b[39m\u001b[39mFeature \u001b[39m\u001b[39m{\u001b[39;00mi\u001b[39m+\u001b[39m\u001b[39m1\u001b[39m\u001b[39m}\u001b[39;00m\u001b[39m'\u001b[39m \u001b[39mfor\u001b[39;00m i \u001b[39min\u001b[39;00m \u001b[39mrange\u001b[39m(X\u001b[39m.\u001b[39mshape[\u001b[39m1\u001b[39m])],\n\u001b[1;32m      <a href='vscode-notebook-cell:/Users/joelraju/code/loyalist-college/sem-1/ml-1/assignment-6/sensitivity-analysis.ipynb#Y102sZmlsZQ%3D%3D?line=6'>7</a>\u001b[0m     \u001b[39m'\u001b[39m\u001b[39mbounds\u001b[39m\u001b[39m'\u001b[39m: [[\u001b[39m0\u001b[39m, \u001b[39m1\u001b[39m] \u001b[39mfor\u001b[39;00m _ \u001b[39min\u001b[39;00m \u001b[39mrange\u001b[39m(X\u001b[39m.\u001b[39mshape[\u001b[39m1\u001b[39m])]\n\u001b[1;32m      <a href='vscode-notebook-cell:/Users/joelraju/code/loyalist-college/sem-1/ml-1/assignment-6/sensitivity-analysis.ipynb#Y102sZmlsZQ%3D%3D?line=7'>8</a>\u001b[0m }\n\u001b[0;32m---> <a href='vscode-notebook-cell:/Users/joelraju/code/loyalist-college/sem-1/ml-1/assignment-6/sensitivity-analysis.ipynb#Y102sZmlsZQ%3D%3D?line=9'>10</a>\u001b[0m sensitivity \u001b[39m=\u001b[39m sobol\u001b[39m.\u001b[39manalyze(problem, y_pred, print_to_console\u001b[39m=\u001b[39m\u001b[39mFalse\u001b[39;00m, calc_second_order\u001b[39m=\u001b[39m\u001b[39mFalse\u001b[39;00m, conf_level\u001b[39m=\u001b[39m\u001b[39m0.95\u001b[39m)\n\u001b[1;32m     <a href='vscode-notebook-cell:/Users/joelraju/code/loyalist-college/sem-1/ml-1/assignment-6/sensitivity-analysis.ipynb#Y102sZmlsZQ%3D%3D?line=11'>12</a>\u001b[0m \u001b[39mprint\u001b[39m(\u001b[39m\"\u001b[39m\u001b[39mSensitivity Analysis Results:\u001b[39m\u001b[39m\"\u001b[39m)\n\u001b[1;32m     <a href='vscode-notebook-cell:/Users/joelraju/code/loyalist-college/sem-1/ml-1/assignment-6/sensitivity-analysis.ipynb#Y102sZmlsZQ%3D%3D?line=12'>13</a>\u001b[0m \u001b[39mfor\u001b[39;00m i, feature \u001b[39min\u001b[39;00m \u001b[39menumerate\u001b[39m(problem[\u001b[39m'\u001b[39m\u001b[39mnames\u001b[39m\u001b[39m'\u001b[39m]):\n",
      "File \u001b[0;32m~/anaconda3/lib/python3.11/site-packages/SALib/analyze/sobol.py:119\u001b[0m, in \u001b[0;36manalyze\u001b[0;34m(problem, Y, calc_second_order, num_resamples, conf_level, print_to_console, parallel, n_processors, keep_resamples, seed)\u001b[0m\n\u001b[1;32m    117\u001b[0m     N \u001b[39m=\u001b[39m \u001b[39mint\u001b[39m(Y\u001b[39m.\u001b[39msize \u001b[39m/\u001b[39m (D \u001b[39m+\u001b[39m \u001b[39m2\u001b[39m))\n\u001b[1;32m    118\u001b[0m \u001b[39melse\u001b[39;00m:\n\u001b[0;32m--> 119\u001b[0m     \u001b[39mraise\u001b[39;00m \u001b[39mRuntimeError\u001b[39;00m(\n\u001b[1;32m    120\u001b[0m \u001b[39m        \u001b[39m\u001b[39m\"\"\"\u001b[39;00m\n\u001b[1;32m    121\u001b[0m \u001b[39m    Incorrect number of samples in model output file.\u001b[39;00m\n\u001b[1;32m    122\u001b[0m \u001b[39m    Confirm that calc_second_order matches option used during sampling.\"\"\"\u001b[39;00m\n\u001b[1;32m    123\u001b[0m     )\n\u001b[1;32m    125\u001b[0m \u001b[39mif\u001b[39;00m \u001b[39mnot\u001b[39;00m \u001b[39m0\u001b[39m \u001b[39m<\u001b[39m conf_level \u001b[39m<\u001b[39m \u001b[39m1\u001b[39m:\n\u001b[1;32m    126\u001b[0m     \u001b[39mraise\u001b[39;00m \u001b[39mRuntimeError\u001b[39;00m(\u001b[39m\"\u001b[39m\u001b[39mConfidence level must be between 0-1.\u001b[39m\u001b[39m\"\u001b[39m)\n",
      "\u001b[0;31mRuntimeError\u001b[0m: \n        Incorrect number of samples in model output file.\n        Confirm that calc_second_order matches option used during sampling."
     ]
    }
   ],
   "source": [
    "def perform_senitivity_analysis(X, y_pred):\n",
    "    N = 2 ** 10\n",
    "\n",
    "    problem = {\n",
    "        'num_vars': X.shape[1],\n",
    "        'names': [f'Feature {i+1}' for i in range(X.shape[1])],\n",
    "        'bounds': [[0, 1] for _ in range(X.shape[1])]\n",
    "    }\n",
    "\n",
    "    sensitivity = sobol.analyze(problem, y_pred, print_to_console=False, calc_second_order=False, conf_level=0.95)\n",
    "\n",
    "    print(\"Sensitivity Analysis Results:\")\n",
    "    for i, feature in enumerate(problem['names']):\n",
    "        print(f\"{feature}: {sensitivity['S1'][i]}\")\n",
    "\n",
    "perform_senitivity_analysis(X, y_pred_lr)"
   ]
  },
  {
   "cell_type": "markdown",
   "metadata": {},
   "source": [
    "### Build SVM Model"
   ]
  },
  {
   "cell_type": "code",
   "execution_count": null,
   "metadata": {},
   "outputs": [
    {
     "name": "stdout",
     "output_type": "stream",
     "text": [
      "Accuracy:  0.9376278118609407\n",
      "Precision: 0.9369018462801489\n",
      "Recall: 0.9376278118609407\n"
     ]
    },
    {
     "data": {
      "image/png": "[encoded data removed]",
      "text/plain": [
       "<Figure size 640x480 with 1 Axes>"
      ]
     },
     "metadata": {},
     "output_type": "display_data"
    },
    {
     "data": {
      "image/png": "[encoded data removed]",
      "text/plain": [
       "<Figure size 640x480 with 2 Axes>"
      ]
     },
     "metadata": {},
     "output_type": "display_data"
    }
   ],
   "source": [
    "def build_SVM_model(X_train, X_test, y_train, y_test):\n",
    "    smote = SMOTE(random_state=42)\n",
    "    X_train_resampled, y_train_resampled = smote.fit_resample(X_train, y_train)\n",
    "    \n",
    "    svm_model = SVC(kernel='rbf', C=13.0, probability=True)\n",
    "    svm_model.fit(X_train_resampled, y_train_resampled)\n",
    "\n",
    "    # Make predictions on the test set\n",
    "    y_pred = svm_model.predict(X_test)\n",
    "    y_prob = svm_model.predict_proba(X_test)[:, 1]\n",
    "    \n",
    "    show_auc_under_roc(y_test, y_pred, y_prob)\n",
    "    show_confusion_matrix(y_test, y_pred)\n",
    "\n",
    "    return svm_model, y_pred, y_prob\n",
    "\n",
    "model, y_pred, y_prob = build_SVM_model(X_train, X_test, y_train, y_test)"
   ]
  },
  {
   "cell_type": "markdown",
   "metadata": {},
   "source": [
    "# Sentivity Analysis"
   ]
  },
  {
   "cell_type": "markdown",
   "metadata": {},
   "source": [
    "### Global Sensitivity Analysis"
   ]
  },
  {
   "cell_type": "code",
   "execution_count": null,
   "metadata": {},
   "outputs": [
    {
     "name": "stdout",
     "output_type": "stream",
     "text": [
      "<generator object <genexpr> at 0x289ec7d80>\n"
     ]
    }
   ],
   "source": []
  },
  {
   "cell_type": "markdown",
   "metadata": {},
   "source": [
    "### Sensitivity of core features"
   ]
  },
  {
   "cell_type": "code",
   "execution_count": null,
   "metadata": {},
   "outputs": [
    {
     "ename": "RuntimeError",
     "evalue": "\n        Incorrect number of samples in model output file.\n        Confirm that calc_second_order matches option used during sampling.",
     "output_type": "error",
     "traceback": [
      "\u001b[0;31m---------------------------------------------------------------------------\u001b[0m",
      "\u001b[0;31mRuntimeError\u001b[0m                              Traceback (most recent call last)",
      "\u001b[1;32m/Users/joelraju/code/loyalist-college/sem-1/ml-1/assignment-6/sensitivity-analysis.ipynb Cell 38\u001b[0m line \u001b[0;36m1\n\u001b[1;32m     <a href='vscode-notebook-cell:/Users/joelraju/code/loyalist-college/sem-1/ml-1/assignment-6/sensitivity-analysis.ipynb#X52sZmlsZQ%3D%3D?line=12'>13</a>\u001b[0m     \u001b[39mfor\u001b[39;00m i, feature \u001b[39min\u001b[39;00m \u001b[39menumerate\u001b[39m(problem[\u001b[39m'\u001b[39m\u001b[39mnames\u001b[39m\u001b[39m'\u001b[39m]):\n\u001b[1;32m     <a href='vscode-notebook-cell:/Users/joelraju/code/loyalist-college/sem-1/ml-1/assignment-6/sensitivity-analysis.ipynb#X52sZmlsZQ%3D%3D?line=13'>14</a>\u001b[0m         \u001b[39mprint\u001b[39m(\u001b[39mf\u001b[39m\u001b[39m\"\u001b[39m\u001b[39m{\u001b[39;00mfeature\u001b[39m}\u001b[39;00m\u001b[39m: \u001b[39m\u001b[39m{\u001b[39;00msensitivity[\u001b[39m'\u001b[39m\u001b[39mS1\u001b[39m\u001b[39m'\u001b[39m][i]\u001b[39m}\u001b[39;00m\u001b[39m\"\u001b[39m)\n\u001b[0;32m---> <a href='vscode-notebook-cell:/Users/joelraju/code/loyalist-college/sem-1/ml-1/assignment-6/sensitivity-analysis.ipynb#X52sZmlsZQ%3D%3D?line=15'>16</a>\u001b[0m perform_senitivity_analysis(X, y_pred)\n",
      "\u001b[1;32m/Users/joelraju/code/loyalist-college/sem-1/ml-1/assignment-6/sensitivity-analysis.ipynb Cell 38\u001b[0m line \u001b[0;36m1\n\u001b[1;32m      <a href='vscode-notebook-cell:/Users/joelraju/code/loyalist-college/sem-1/ml-1/assignment-6/sensitivity-analysis.ipynb#X52sZmlsZQ%3D%3D?line=1'>2</a>\u001b[0m N \u001b[39m=\u001b[39m \u001b[39m2\u001b[39m \u001b[39m*\u001b[39m\u001b[39m*\u001b[39m \u001b[39m10\u001b[39m\n\u001b[1;32m      <a href='vscode-notebook-cell:/Users/joelraju/code/loyalist-college/sem-1/ml-1/assignment-6/sensitivity-analysis.ipynb#X52sZmlsZQ%3D%3D?line=3'>4</a>\u001b[0m problem \u001b[39m=\u001b[39m {\n\u001b[1;32m      <a href='vscode-notebook-cell:/Users/joelraju/code/loyalist-college/sem-1/ml-1/assignment-6/sensitivity-analysis.ipynb#X52sZmlsZQ%3D%3D?line=4'>5</a>\u001b[0m     \u001b[39m'\u001b[39m\u001b[39mnum_vars\u001b[39m\u001b[39m'\u001b[39m: X\u001b[39m.\u001b[39mshape[\u001b[39m1\u001b[39m],\n\u001b[1;32m      <a href='vscode-notebook-cell:/Users/joelraju/code/loyalist-college/sem-1/ml-1/assignment-6/sensitivity-analysis.ipynb#X52sZmlsZQ%3D%3D?line=5'>6</a>\u001b[0m     \u001b[39m'\u001b[39m\u001b[39mnames\u001b[39m\u001b[39m'\u001b[39m: [\u001b[39mf\u001b[39m\u001b[39m'\u001b[39m\u001b[39mFeature \u001b[39m\u001b[39m{\u001b[39;00mi\u001b[39m+\u001b[39m\u001b[39m1\u001b[39m\u001b[39m}\u001b[39;00m\u001b[39m'\u001b[39m \u001b[39mfor\u001b[39;00m i \u001b[39min\u001b[39;00m \u001b[39mrange\u001b[39m(X\u001b[39m.\u001b[39mshape[\u001b[39m1\u001b[39m])],\n\u001b[1;32m      <a href='vscode-notebook-cell:/Users/joelraju/code/loyalist-college/sem-1/ml-1/assignment-6/sensitivity-analysis.ipynb#X52sZmlsZQ%3D%3D?line=6'>7</a>\u001b[0m     \u001b[39m'\u001b[39m\u001b[39mbounds\u001b[39m\u001b[39m'\u001b[39m: [[\u001b[39m0\u001b[39m, \u001b[39m1\u001b[39m] \u001b[39mfor\u001b[39;00m _ \u001b[39min\u001b[39;00m \u001b[39mrange\u001b[39m(X\u001b[39m.\u001b[39mshape[\u001b[39m1\u001b[39m])]\n\u001b[1;32m      <a href='vscode-notebook-cell:/Users/joelraju/code/loyalist-college/sem-1/ml-1/assignment-6/sensitivity-analysis.ipynb#X52sZmlsZQ%3D%3D?line=7'>8</a>\u001b[0m }\n\u001b[0;32m---> <a href='vscode-notebook-cell:/Users/joelraju/code/loyalist-college/sem-1/ml-1/assignment-6/sensitivity-analysis.ipynb#X52sZmlsZQ%3D%3D?line=9'>10</a>\u001b[0m sensitivity \u001b[39m=\u001b[39m sobol\u001b[39m.\u001b[39manalyze(problem, y_pred, print_to_console\u001b[39m=\u001b[39m\u001b[39mFalse\u001b[39;00m, calc_second_order\u001b[39m=\u001b[39m\u001b[39mTrue\u001b[39;00m)\n\u001b[1;32m     <a href='vscode-notebook-cell:/Users/joelraju/code/loyalist-college/sem-1/ml-1/assignment-6/sensitivity-analysis.ipynb#X52sZmlsZQ%3D%3D?line=11'>12</a>\u001b[0m \u001b[39mprint\u001b[39m(\u001b[39m\"\u001b[39m\u001b[39mSensitivity Analysis Results:\u001b[39m\u001b[39m\"\u001b[39m)\n\u001b[1;32m     <a href='vscode-notebook-cell:/Users/joelraju/code/loyalist-college/sem-1/ml-1/assignment-6/sensitivity-analysis.ipynb#X52sZmlsZQ%3D%3D?line=12'>13</a>\u001b[0m \u001b[39mfor\u001b[39;00m i, feature \u001b[39min\u001b[39;00m \u001b[39menumerate\u001b[39m(problem[\u001b[39m'\u001b[39m\u001b[39mnames\u001b[39m\u001b[39m'\u001b[39m]):\n",
      "File \u001b[0;32m~/anaconda3/lib/python3.11/site-packages/SALib/analyze/sobol.py:119\u001b[0m, in \u001b[0;36manalyze\u001b[0;34m(problem, Y, calc_second_order, num_resamples, conf_level, print_to_console, parallel, n_processors, keep_resamples, seed)\u001b[0m\n\u001b[1;32m    117\u001b[0m     N \u001b[39m=\u001b[39m \u001b[39mint\u001b[39m(Y\u001b[39m.\u001b[39msize \u001b[39m/\u001b[39m (D \u001b[39m+\u001b[39m \u001b[39m2\u001b[39m))\n\u001b[1;32m    118\u001b[0m \u001b[39melse\u001b[39;00m:\n\u001b[0;32m--> 119\u001b[0m     \u001b[39mraise\u001b[39;00m \u001b[39mRuntimeError\u001b[39;00m(\n\u001b[1;32m    120\u001b[0m \u001b[39m        \u001b[39m\u001b[39m\"\"\"\u001b[39;00m\n\u001b[1;32m    121\u001b[0m \u001b[39m    Incorrect number of samples in model output file.\u001b[39;00m\n\u001b[1;32m    122\u001b[0m \u001b[39m    Confirm that calc_second_order matches option used during sampling.\"\"\"\u001b[39;00m\n\u001b[1;32m    123\u001b[0m     )\n\u001b[1;32m    125\u001b[0m \u001b[39mif\u001b[39;00m \u001b[39mnot\u001b[39;00m \u001b[39m0\u001b[39m \u001b[39m<\u001b[39m conf_level \u001b[39m<\u001b[39m \u001b[39m1\u001b[39m:\n\u001b[1;32m    126\u001b[0m     \u001b[39mraise\u001b[39;00m \u001b[39mRuntimeError\u001b[39;00m(\u001b[39m\"\u001b[39m\u001b[39mConfidence level must be between 0-1.\u001b[39m\u001b[39m\"\u001b[39m)\n",
      "\u001b[0;31mRuntimeError\u001b[0m: \n        Incorrect number of samples in model output file.\n        Confirm that calc_second_order matches option used during sampling."
     ]
    }
   ],
   "source": [
    "\n"
   ]
  },
  {
   "cell_type": "markdown",
   "metadata": {},
   "source": []
  },
  {
   "cell_type": "code",
   "execution_count": null,
   "metadata": {},
   "outputs": [
    {
     "name": "stderr",
     "output_type": "stream",
     "text": [
      "/var/folders/xn/1g0gv8vj4qbf5q8q7ch4p7_m0000gn/T/ipykernel_9180/4232638992.py:29: DeprecationWarning: `salib.sample.saltelli` will be removed in SALib 1.5. Please use `salib.sample.sobol`\n",
      "  param_values = saltelli.sample(problem, 10)\n",
      "/Users/joelraju/anaconda3/lib/python3.11/site-packages/SALib/sample/saltelli.py:109: UserWarning: \n",
      "        Convergence properties of the Sobol' sequence is only valid if\n",
      "        `N` (10) is equal to `2^n`.\n",
      "        \n",
      "  warnings.warn(msg)\n"
     ]
    }
   ],
   "source": [
    "N = 2 ** 10\n",
    " \n",
    "problem = {\n",
    "    'num_vars': 12,  # Number of features in your dataset\n",
    " \n",
    "    'names': ['Age', 'CityTier', 'DurationOfPitch', 'NumberOfPersons',\n",
    "              'NumberOfFollowups', 'PreferredServiceStar', 'NumberOfUpgrades',\n",
    "              'iPhone', 'PitchSatisfactionScore', 'PhoneContract',\n",
    "              'NumberOfChildren', 'MonthlyIncome'],\n",
    " \n",
    "    'bounds': [\n",
    "        [18, 61],  # Age\n",
    "        [1, 3],    # CityTier\n",
    "        [5, 127],  # DurationOfPitch\n",
    "        [1, 5],    # NumberOfPersons\n",
    "        [1, 6],    # NumberOfFollowups\n",
    "        [3, 5],    # PreferredServiceStar\n",
    "        [1, 22],   # NumberOfUpgrades\n",
    "        [0, 1],    # iPhone (Assuming it's binary, change if it's categorical)\n",
    "        [1, 5],    # PitchSatisfactionScore\n",
    "        [0, 1],    # PhoneContract (Assuming it's binary)\n",
    "        [0, 3],    # NumberOfChildren\n",
    "        [1000, 98678],  # MonthlyIncome\n",
    "    ]\n",
    "}\n",
    "\n",
    "from SALib.analyze import sobol as sobol_analyze\n",
    "\n",
    "param_values = saltelli.sample(problem, 10)\n",
    "\n",
    "# Evaluate the model with different parameter values\n",
    "model_outputs = []\n",
    "for params in param_values:\n",
    "    # Modify the model with the sampled parameter values\n",
    "    modified_X_test = X_test.copy()  # Make a copy of X_test to avoid modifying the original data\n",
    "   \n",
    "    # Modify each feature separately\n",
    "    for i in range(problem['num_vars']):\n",
    "        modified_X_test[:, i] *= params[i]\n",
    " \n",
    "    y_pred = model.predict(modified_X_test)\n",
    "    accuracy = accuracy_score(y_test, y_pred)\n",
    "    model_outputs.append(accuracy)"
   ]
  },
  {
   "cell_type": "markdown",
   "metadata": {},
   "source": [
    "### LIME"
   ]
  },
  {
   "cell_type": "code",
   "execution_count": null,
   "metadata": {},
   "outputs": [
    {
     "ename": "IndexError",
     "evalue": "list index out of range",
     "output_type": "error",
     "traceback": [
      "\u001b[0;31m---------------------------------------------------------------------------\u001b[0m",
      "\u001b[0;31mIndexError\u001b[0m                                Traceback (most recent call last)",
      "\u001b[1;32m/Users/joelraju/code/loyalist-college/sem-1/ml-1/assignment-6/sensitivity-analysis.ipynb Cell 42\u001b[0m line \u001b[0;36m5\n\u001b[1;32m      <a href='vscode-notebook-cell:/Users/joelraju/code/loyalist-college/sem-1/ml-1/assignment-6/sensitivity-analysis.ipynb#X61sZmlsZQ%3D%3D?line=1'>2</a>\u001b[0m   explainer \u001b[39m=\u001b[39m lime_tabular\u001b[39m.\u001b[39mLimeTabularExplainer(X_train, mode\u001b[39m=\u001b[39m\u001b[39m\"\u001b[39m\u001b[39mregression\u001b[39m\u001b[39m\"\u001b[39m, feature_names\u001b[39m=\u001b[39mdf\u001b[39m.\u001b[39mcolumns)\n\u001b[1;32m      <a href='vscode-notebook-cell:/Users/joelraju/code/loyalist-college/sem-1/ml-1/assignment-6/sensitivity-analysis.ipynb#X61sZmlsZQ%3D%3D?line=2'>3</a>\u001b[0m   explainer\n\u001b[0;32m----> <a href='vscode-notebook-cell:/Users/joelraju/code/loyalist-college/sem-1/ml-1/assignment-6/sensitivity-analysis.ipynb#X61sZmlsZQ%3D%3D?line=4'>5</a>\u001b[0m build_lime_explainer(df, X_train)\n",
      "\u001b[1;32m/Users/joelraju/code/loyalist-college/sem-1/ml-1/assignment-6/sensitivity-analysis.ipynb Cell 42\u001b[0m line \u001b[0;36m2\n\u001b[1;32m      <a href='vscode-notebook-cell:/Users/joelraju/code/loyalist-college/sem-1/ml-1/assignment-6/sensitivity-analysis.ipynb#X61sZmlsZQ%3D%3D?line=0'>1</a>\u001b[0m \u001b[39mdef\u001b[39;00m \u001b[39mbuild_lime_explainer\u001b[39m(df, X_train):\n\u001b[0;32m----> <a href='vscode-notebook-cell:/Users/joelraju/code/loyalist-college/sem-1/ml-1/assignment-6/sensitivity-analysis.ipynb#X61sZmlsZQ%3D%3D?line=1'>2</a>\u001b[0m   explainer \u001b[39m=\u001b[39m lime_tabular\u001b[39m.\u001b[39mLimeTabularExplainer(X_train, mode\u001b[39m=\u001b[39m\u001b[39m\"\u001b[39m\u001b[39mregression\u001b[39m\u001b[39m\"\u001b[39m, feature_names\u001b[39m=\u001b[39mdf\u001b[39m.\u001b[39mcolumns)\n\u001b[1;32m      <a href='vscode-notebook-cell:/Users/joelraju/code/loyalist-college/sem-1/ml-1/assignment-6/sensitivity-analysis.ipynb#X61sZmlsZQ%3D%3D?line=2'>3</a>\u001b[0m   explainer\n",
      "File \u001b[0;32m~/anaconda3/lib/python3.11/site-packages/lime/lime_tabular.py:215\u001b[0m, in \u001b[0;36mLimeTabularExplainer.__init__\u001b[0;34m(self, training_data, mode, training_labels, feature_names, categorical_features, categorical_names, kernel_width, kernel, verbose, class_names, feature_selection, discretize_continuous, discretizer, sample_around_instance, random_state, training_data_stats)\u001b[0m\n\u001b[1;32m    209\u001b[0m     discretizer \u001b[39m=\u001b[39m StatsDiscretizer(training_data, \u001b[39mself\u001b[39m\u001b[39m.\u001b[39mcategorical_features,\n\u001b[1;32m    210\u001b[0m                                    \u001b[39mself\u001b[39m\u001b[39m.\u001b[39mfeature_names, labels\u001b[39m=\u001b[39mtraining_labels,\n\u001b[1;32m    211\u001b[0m                                    data_stats\u001b[39m=\u001b[39m\u001b[39mself\u001b[39m\u001b[39m.\u001b[39mtraining_data_stats,\n\u001b[1;32m    212\u001b[0m                                    random_state\u001b[39m=\u001b[39m\u001b[39mself\u001b[39m\u001b[39m.\u001b[39mrandom_state)\n\u001b[1;32m    214\u001b[0m \u001b[39mif\u001b[39;00m discretizer \u001b[39m==\u001b[39m \u001b[39m'\u001b[39m\u001b[39mquartile\u001b[39m\u001b[39m'\u001b[39m:\n\u001b[0;32m--> 215\u001b[0m     \u001b[39mself\u001b[39m\u001b[39m.\u001b[39mdiscretizer \u001b[39m=\u001b[39m QuartileDiscretizer(\n\u001b[1;32m    216\u001b[0m             training_data, \u001b[39mself\u001b[39m\u001b[39m.\u001b[39mcategorical_features,\n\u001b[1;32m    217\u001b[0m             \u001b[39mself\u001b[39m\u001b[39m.\u001b[39mfeature_names, labels\u001b[39m=\u001b[39mtraining_labels,\n\u001b[1;32m    218\u001b[0m             random_state\u001b[39m=\u001b[39m\u001b[39mself\u001b[39m\u001b[39m.\u001b[39mrandom_state)\n\u001b[1;32m    219\u001b[0m \u001b[39melif\u001b[39;00m discretizer \u001b[39m==\u001b[39m \u001b[39m'\u001b[39m\u001b[39mdecile\u001b[39m\u001b[39m'\u001b[39m:\n\u001b[1;32m    220\u001b[0m     \u001b[39mself\u001b[39m\u001b[39m.\u001b[39mdiscretizer \u001b[39m=\u001b[39m DecileDiscretizer(\n\u001b[1;32m    221\u001b[0m             training_data, \u001b[39mself\u001b[39m\u001b[39m.\u001b[39mcategorical_features,\n\u001b[1;32m    222\u001b[0m             \u001b[39mself\u001b[39m\u001b[39m.\u001b[39mfeature_names, labels\u001b[39m=\u001b[39mtraining_labels,\n\u001b[1;32m    223\u001b[0m             random_state\u001b[39m=\u001b[39m\u001b[39mself\u001b[39m\u001b[39m.\u001b[39mrandom_state)\n",
      "File \u001b[0;32m~/anaconda3/lib/python3.11/site-packages/lime/discretize.py:178\u001b[0m, in \u001b[0;36mQuartileDiscretizer.__init__\u001b[0;34m(self, data, categorical_features, feature_names, labels, random_state)\u001b[0m\n\u001b[1;32m    176\u001b[0m \u001b[39mdef\u001b[39;00m \u001b[39m__init__\u001b[39m(\u001b[39mself\u001b[39m, data, categorical_features, feature_names, labels\u001b[39m=\u001b[39m\u001b[39mNone\u001b[39;00m, random_state\u001b[39m=\u001b[39m\u001b[39mNone\u001b[39;00m):\n\u001b[0;32m--> 178\u001b[0m     BaseDiscretizer\u001b[39m.\u001b[39m\u001b[39m__init__\u001b[39m(\u001b[39mself\u001b[39m, data, categorical_features,\n\u001b[1;32m    179\u001b[0m                              feature_names, labels\u001b[39m=\u001b[39mlabels,\n\u001b[1;32m    180\u001b[0m                              random_state\u001b[39m=\u001b[39mrandom_state)\n",
      "File \u001b[0;32m~/anaconda3/lib/python3.11/site-packages/lime/discretize.py:64\u001b[0m, in \u001b[0;36mBaseDiscretizer.__init__\u001b[0;34m(self, data, categorical_features, feature_names, labels, random_state, data_stats)\u001b[0m\n\u001b[1;32m     62\u001b[0m n_bins \u001b[39m=\u001b[39m qts\u001b[39m.\u001b[39mshape[\u001b[39m0\u001b[39m]  \u001b[39m# Actually number of borders (= #bins-1)\u001b[39;00m\n\u001b[1;32m     63\u001b[0m boundaries \u001b[39m=\u001b[39m np\u001b[39m.\u001b[39mmin(data[:, feature]), np\u001b[39m.\u001b[39mmax(data[:, feature])\n\u001b[0;32m---> 64\u001b[0m name \u001b[39m=\u001b[39m feature_names[feature]\n\u001b[1;32m     66\u001b[0m \u001b[39mself\u001b[39m\u001b[39m.\u001b[39mnames[feature] \u001b[39m=\u001b[39m [\u001b[39m'\u001b[39m\u001b[39m%s\u001b[39;00m\u001b[39m <= \u001b[39m\u001b[39m%.2f\u001b[39;00m\u001b[39m'\u001b[39m \u001b[39m%\u001b[39m (name, qts[\u001b[39m0\u001b[39m])]\n\u001b[1;32m     67\u001b[0m \u001b[39mfor\u001b[39;00m i \u001b[39min\u001b[39;00m \u001b[39mrange\u001b[39m(n_bins \u001b[39m-\u001b[39m \u001b[39m1\u001b[39m):\n",
      "\u001b[0;31mIndexError\u001b[0m: list index out of range"
     ]
    }
   ],
   "source": [
    "def build_lime_explainer(df, X_train):\n",
    "  explainer = lime_tabular.LimeTabularExplainer(X_train, mode=\"regression\", feature_names=df.columns)\n",
    "  explainer\n",
    "\n",
    "build_lime_explainer(df, X_train)"
   ]
  }
 ],
 "metadata": {
  "kernelspec": {
   "display_name": "base",
   "language": "python",
   "name": "python3"
  },
  "language_info": {
   "codemirror_mode": {
    "name": "ipython",
    "version": 3
   },
   "file_extension": ".py",
   "mimetype": "text/x-python",
   "name": "python",
   "nbconvert_exporter": "python",
   "pygments_lexer": "ipython3",
   "version": "3.11.5"
  }
 },
 "nbformat": 4,
 "nbformat_minor": 2
}
